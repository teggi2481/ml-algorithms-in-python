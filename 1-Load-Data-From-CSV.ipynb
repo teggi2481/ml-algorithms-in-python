{
 "cells": [
  {
   "cell_type": "code",
   "execution_count": 5,
   "metadata": {
    "collapsed": true
   },
   "outputs": [],
   "source": [
    "from csv import reader"
   ]
  },
  {
   "cell_type": "code",
   "execution_count": 18,
   "metadata": {
    "collapsed": true
   },
   "outputs": [],
   "source": [
    "def load_csv(filename) :\n",
    "    file = open(filename,'r')\n",
    "    lines = reader(file)\n",
    "    dataset = list(lines)\n",
    "    return dataset"
   ]
  },
  {
   "cell_type": "code",
   "execution_count": 19,
   "metadata": {
    "collapsed": true
   },
   "outputs": [],
   "source": [
    "fruits_csv = 'C:\\Users\\halad\\Documents\\my-learning\\dataset\\diabetes.csv'"
   ]
  },
  {
   "cell_type": "code",
   "execution_count": 20,
   "metadata": {
    "collapsed": false
   },
   "outputs": [
    {
     "name": "stdout",
     "output_type": "stream",
     "text": [
      "Loaded data file C:\\Users\\halad\\Documents\\my-learning\\dataset\\diabetes.csv with 768 rows and 9 columns\n"
     ]
    }
   ],
   "source": [
    "data = load_csv(fruits_csv)\n",
    "print('Loaded data file {0} with {1} rows and {2} columns').format(fruits_csv,len(data),len(data[0]))"
   ]
  },
  {
   "cell_type": "markdown",
   "metadata": {},
   "source": [
    "The limitation of the above function is that it will load the empty lines as well. Lets check whether the line is an empty line and process it accordingly."
   ]
  },
  {
   "cell_type": "code",
   "execution_count": 21,
   "metadata": {
    "collapsed": false
   },
   "outputs": [
    {
     "name": "stdout",
     "output_type": "stream",
     "text": [
      "Loaded data file C:\\Users\\halad\\Documents\\my-learning\\dataset\\diabetes.csv with 768 rows and 9 columns\n"
     ]
    }
   ],
   "source": [
    "def load_csv(filename) :\n",
    "    dataset = list()\n",
    "    file = open(filename,'r')\n",
    "    lines = reader(file)\n",
    "    for line in lines :\n",
    "        if not line :\n",
    "            continue\n",
    "        dataset.append(line)\n",
    "    return dataset\n",
    "\n",
    "fruits_csv = 'C:\\Users\\halad\\Documents\\my-learning\\dataset\\diabetes.csv'\n",
    "data = load_csv(fruits_csv)\n",
    "print('Loaded data file {0} with {1} rows and {2} columns').format(fruits_csv,len(data),len(data[0]))"
   ]
  },
  {
   "cell_type": "markdown",
   "metadata": {},
   "source": [
    "### String to Float\n",
    "The dataset is a list of list data structure. When we print any line, by defualt all the values are strings. We need to convert the required columns to the float."
   ]
  },
  {
   "cell_type": "code",
   "execution_count": 22,
   "metadata": {
    "collapsed": false
   },
   "outputs": [
    {
     "name": "stdout",
     "output_type": "stream",
     "text": [
      "['1', '85', '66', '29', '0', '26.6', '0.351', '31', '1']\n"
     ]
    }
   ],
   "source": [
    "print(data[1])"
   ]
  },
  {
   "cell_type": "code",
   "execution_count": 23,
   "metadata": {
    "collapsed": false
   },
   "outputs": [
    {
     "name": "stdout",
     "output_type": "stream",
     "text": [
      "Loaded data file C:\\Users\\halad\\Documents\\my-learning\\dataset\\diabetes.csv with 768 rows and 9 columns\n",
      "['1', '85', '66', '29', '0', '26.6', '0.351', '31', '1']\n",
      "[1.0, 85.0, 66.0, 29.0, 0.0, 26.6, 0.351, 31.0, 1.0]\n"
     ]
    }
   ],
   "source": [
    "def load_csv(filename) :\n",
    "    dataset = list()\n",
    "    file = open(filename,'r')\n",
    "    lines = reader(file)\n",
    "    for line in lines :\n",
    "        if not line :\n",
    "            continue\n",
    "        dataset.append(line)\n",
    "    return dataset\n",
    "\n",
    "def str_column_to_float(dataset, column) :\n",
    "    for row in dataset :\n",
    "        row[column] = float(row[column].strip())\n",
    "\n",
    "fruits_csv = 'C:\\Users\\halad\\Documents\\my-learning\\dataset\\diabetes.csv'\n",
    "data = load_csv(fruits_csv)\n",
    "print('Loaded data file {0} with {1} rows and {2} columns').format(fruits_csv,len(data),len(data[0]))\n",
    "\n",
    "print(data[1])\n",
    "for i in range(len(data[1])) :\n",
    "    str_column_to_float(data,i)\n",
    "print(data[1])"
   ]
  },
  {
   "cell_type": "code",
   "execution_count": 25,
   "metadata": {
    "collapsed": false
   },
   "outputs": [
    {
     "name": "stdout",
     "output_type": "stream",
     "text": [
      "Loaded data file C:\\Users\\halad\\Documents\\my-learning\\dataset\\diabetes-with-string-class-labels.csv with 768 rows and 9 columns\n"
     ]
    }
   ],
   "source": [
    "def load_csv(filename) :\n",
    "    dataset = list()\n",
    "    file = open(filename,'r')\n",
    "    lines = reader(file)\n",
    "    for line in lines :\n",
    "        if not line :\n",
    "            continue\n",
    "        dataset.append(line)\n",
    "    return dataset\n",
    "\n",
    "def str_column_to_float(dataset, column) :\n",
    "    for row in dataset :\n",
    "        row[column] = float(row[column].strip())\n",
    "\n",
    "diabetes_csv = 'C:\\Users\\halad\\Documents\\my-learning\\dataset\\diabetes-with-string-class-labels.csv'\n",
    "data = load_csv(diabetes_csv)\n",
    "print('Loaded data file {0} with {1} rows and {2} columns').format(diabetes_csv,len(data),len(data[0]))\n"
   ]
  },
  {
   "cell_type": "code",
   "execution_count": 29,
   "metadata": {
    "collapsed": true
   },
   "outputs": [],
   "source": [
    "def str_column_to_integer(dataset, column) :\n",
    "    class_values = [row[column] for row in dataset]\n",
    "    unique = set(class_values)\n",
    "    lookup = {}\n",
    "    for i,value in enumerate(unique) :\n",
    "        lookup[value] = i\n",
    "    for row in dataset :\n",
    "        row[column] = lookup[row[column]]\n",
    "    return lookup"
   ]
  },
  {
   "cell_type": "code",
   "execution_count": 34,
   "metadata": {
    "collapsed": false
   },
   "outputs": [
    {
     "name": "stdout",
     "output_type": "stream",
     "text": [
      "Loaded data file C:\\Users\\halad\\Documents\\my-learning\\dataset\\diabetes-with-string-class-labels.csv with 768 rows and 9 columns\n",
      "['1', '85', '66', '29', '0', '26.6', '0.351', '31', 'tested_negative']\n",
      "[1.0, 85.0, 66.0, 29.0, 0.0, 26.6, 0.351, 31.0, 'tested_negative']\n",
      "{'tested_positive': 0, 'tested_negative': 1}\n",
      "[1.0, 85.0, 66.0, 29.0, 0.0, 26.6, 0.351, 31.0, 1]\n"
     ]
    }
   ],
   "source": [
    "def load_csv(filename) :\n",
    "    dataset = list()\n",
    "    file = open(filename,'r')\n",
    "    lines = reader(file)\n",
    "    for line in lines :\n",
    "        if not line :\n",
    "            continue\n",
    "        dataset.append(line)\n",
    "    return dataset\n",
    "\n",
    "def str_column_to_float(dataset, column) :\n",
    "    for row in dataset :\n",
    "        row[column] = float(row[column].strip())\n",
    "\n",
    "def str_column_to_integer(dataset, column) :\n",
    "    class_values = [row[column] for row in dataset]\n",
    "    unique = set(class_values)\n",
    "    lookup = {}\n",
    "    for i,value in enumerate(unique) :\n",
    "        lookup[value] = i\n",
    "    for row in dataset :\n",
    "        row[column] = lookup[row[column]]\n",
    "    return lookup\n",
    "\n",
    "diabetes_csv = 'C:\\Users\\halad\\Documents\\my-learning\\dataset\\diabetes-with-string-class-labels.csv'\n",
    "data = load_csv(diabetes_csv)\n",
    "print('Loaded data file {0} with {1} rows and {2} columns').format(diabetes_csv,len(data),len(data[0]))\n",
    "\n",
    "print(data[1])\n",
    "for i in range(len(data[1])-1) :\n",
    "    str_column_to_float(data,i)\n",
    "print(data[1])\n",
    "\n",
    "lookup = str_column_to_integer(data, len(data[1])-1)\n",
    "print lookup\n",
    "print(data[1])"
   ]
  },
  {
   "cell_type": "markdown",
   "metadata": {},
   "source": [
    "### Extensions :\n",
    "1. Detect and remove empty lines at the top or bottom of the file\n",
    "2. Detect and handle the missing values in a column\n",
    "3. Detect and Handle rows that do not match the rest of the lines.\n",
    "4. Support other delimeters such as pipe or white space\n",
    "etc"
   ]
  },
  {
   "cell_type": "code",
   "execution_count": null,
   "metadata": {
    "collapsed": true
   },
   "outputs": [],
   "source": []
  }
 ],
 "metadata": {
  "anaconda-cloud": {},
  "kernelspec": {
   "display_name": "Python [Root]",
   "language": "python",
   "name": "Python [Root]"
  },
  "language_info": {
   "codemirror_mode": {
    "name": "ipython",
    "version": 2
   },
   "file_extension": ".py",
   "mimetype": "text/x-python",
   "name": "python",
   "nbconvert_exporter": "python",
   "pygments_lexer": "ipython2",
   "version": "2.7.12"
  }
 },
 "nbformat": 4,
 "nbformat_minor": 0
}
