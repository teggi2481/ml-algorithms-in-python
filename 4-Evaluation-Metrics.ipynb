{
 "cells": [
  {
   "cell_type": "markdown",
   "metadata": {},
   "source": [
    "### Classification Accuracy\n",
    "Classification accuracy is a ratio of the number of correct predictions out of all predictions that were made. It is meausred in precentage.\n",
    "- accuracy = ( correct predictions / total predictions ) X 100\n"
   ]
  },
  {
   "cell_type": "code",
   "execution_count": 3,
   "metadata": {
    "collapsed": true
   },
   "outputs": [],
   "source": [
    "def accuracy_metric(actual, predicted) :\n",
    "    correct = 0\n",
    "    for i in range(len(actual)) :\n",
    "        if actual[i] == predicted[i] :\n",
    "            correct += 1\n",
    "    return (correct / float(len(predicted)))*100.0"
   ]
  },
  {
   "cell_type": "code",
   "execution_count": 4,
   "metadata": {
    "collapsed": false
   },
   "outputs": [
    {
     "name": "stdout",
     "output_type": "stream",
     "text": [
      "71.4285714286\n"
     ]
    }
   ],
   "source": [
    "def accuracy_metric(actual, predicted) :\n",
    "    correct = 0\n",
    "    for i in range(len(actual)) :\n",
    "        if actual[i] == predicted[i] :\n",
    "            correct += 1\n",
    "    return (correct / float(len(predicted)))*100.0\n",
    "\n",
    "actual = [0,0,0,1,1,1,0,1,0,1,1,1,0,0]\n",
    "predicted = [0,0,1,0,0,0,0,1,0,1,1,1,0,0]\n",
    "accuracy = accuracy_metric(actual, predicted)\n",
    "print accuracy"
   ]
  },
  {
   "cell_type": "markdown",
   "metadata": {},
   "source": [
    "### Confusion Matrix\n",
    "A confusion matrix provides a summary of all of the predictions made compared to the expected actual values. \n",
    "<br>The results are presented in a matrix with counts in each cell.\n",
    "<br>The counts of actual class values are summerized horizontally, where as the counts of predictions for each class values are presented vertically."
   ]
  },
  {
   "cell_type": "code",
   "execution_count": null,
   "metadata": {
    "collapsed": true
   },
   "outputs": [],
   "source": []
  }
 ],
 "metadata": {
  "kernelspec": {
   "display_name": "Python [Root]",
   "language": "python",
   "name": "Python [Root]"
  },
  "language_info": {
   "codemirror_mode": {
    "name": "ipython",
    "version": 2
   },
   "file_extension": ".py",
   "mimetype": "text/x-python",
   "name": "python",
   "nbconvert_exporter": "python",
   "pygments_lexer": "ipython2",
   "version": "2.7.12"
  }
 },
 "nbformat": 4,
 "nbformat_minor": 0
}
