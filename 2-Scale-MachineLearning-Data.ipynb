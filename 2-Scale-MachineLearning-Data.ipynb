{
 "cells": [
  {
   "cell_type": "code",
   "execution_count": 8,
   "metadata": {
    "collapsed": false
   },
   "outputs": [],
   "source": [
    "def dataset_minmax(dataset) :\n",
    "    minmax = list()\n",
    "    for i in range(len(dataset[0])) :\n",
    "        col_values = [row[i] for row in dataset]\n",
    "        value_min = min(col_values)\n",
    "        value_max = max(col_values)\n",
    "        minmax.append([value_min,value_max])\n",
    "    return minmax"
   ]
  },
  {
   "cell_type": "code",
   "execution_count": 9,
   "metadata": {
    "collapsed": false
   },
   "outputs": [
    {
     "name": "stdout",
     "output_type": "stream",
     "text": [
      "[[30, 50], [60, 10], [20, 50], [30, 40]]\n",
      "[[20, 60], [10, 50]]\n"
     ]
    }
   ],
   "source": [
    "dataset = [[30,50],[60,10],[20,50],[30,40]]\n",
    "print dataset\n",
    "minmax = dataset_minmax(dataset)\n",
    "print minmax"
   ]
  },
  {
   "cell_type": "code",
   "execution_count": 10,
   "metadata": {
    "collapsed": true
   },
   "outputs": [],
   "source": [
    "def normalize_dataset(dataset,minmax):\n",
    "    for row in dataset :\n",
    "        for i in range(len(row)):\n",
    "            row[i] = (row[i]-minmax[i][0])/(minmax[i][1]-minmax[i][0])        "
   ]
  },
  {
   "cell_type": "code",
   "execution_count": 12,
   "metadata": {
    "collapsed": false
   },
   "outputs": [
    {
     "name": "stdout",
     "output_type": "stream",
     "text": [
      "[[30, 50], [60, 10], [20, 50], [30, 40]]\n",
      "[[20, 60], [10, 50]]\n",
      "[[0, 1], [1, 0], [0, 1], [0, 0]]\n"
     ]
    }
   ],
   "source": [
    "dataset = [[30,50],[60,10],[20,50],[30,40]]\n",
    "print dataset\n",
    "minmax = dataset_minmax(dataset)\n",
    "print minmax\n",
    "normalize_dataset(dataset,minmax)\n",
    "print dataset"
   ]
  },
  {
   "cell_type": "code",
   "execution_count": 14,
   "metadata": {
    "collapsed": false
   },
   "outputs": [
    {
     "name": "stdout",
     "output_type": "stream",
     "text": [
      "Loaded data file C:\\Users\\halad\\Documents\\my-learning\\dataset\\diabetes-with-string-class-labels.csv with 768 rows and 9 columns\n",
      "['1', '85', '66', '29', '0', '26.6', '0.351', '31', 'tested_negative']\n",
      "[1.0, 85.0, 66.0, 29.0, 0.0, 26.6, 0.351, 31.0, 'tested_negative']\n",
      "{'tested_positive': 0, 'tested_negative': 1}\n",
      "[1.0, 85.0, 66.0, 29.0, 0.0, 26.6, 0.351, 31.0, 1]\n",
      "[0.058823529411764705, 0.4271356783919598, 0.5409836065573771, 0.29292929292929293, 0.0, 0.3964232488822653, 0.11656703672075147, 0.16666666666666666, 1]\n"
     ]
    }
   ],
   "source": [
    "from csv import reader\n",
    "\n",
    "def load_csv(filename) :\n",
    "    dataset = list()\n",
    "    file = open(filename,'r')\n",
    "    lines = reader(file)\n",
    "    for line in lines :\n",
    "        if not line :\n",
    "            continue\n",
    "        dataset.append(line)\n",
    "    return dataset\n",
    "\n",
    "def str_column_to_float(dataset, column) :\n",
    "    for row in dataset :\n",
    "        row[column] = float(row[column].strip())\n",
    "\n",
    "def str_column_to_integer(dataset, column) :\n",
    "    class_values = [row[column] for row in dataset]\n",
    "    unique = set(class_values)\n",
    "    lookup = {}\n",
    "    for i,value in enumerate(unique) :\n",
    "        lookup[value] = i\n",
    "    for row in dataset :\n",
    "        row[column] = lookup[row[column]]\n",
    "    return lookup\n",
    "\n",
    "def dataset_minmax(dataset) :\n",
    "    minmax = list()\n",
    "    for i in range(len(dataset[0])) :\n",
    "        col_values = [row[i] for row in dataset]\n",
    "        value_min = min(col_values)\n",
    "        value_max = max(col_values)\n",
    "        minmax.append([value_min,value_max])\n",
    "    return minmax\n",
    "\n",
    "def normalize_dataset(dataset,minmax):\n",
    "    for row in dataset :\n",
    "        for i in range(len(row)):\n",
    "            row[i] = (row[i]-minmax[i][0])/(minmax[i][1]-minmax[i][0])    \n",
    "            \n",
    "diabetes_csv = 'C:\\Users\\halad\\Documents\\my-learning\\dataset\\diabetes-with-string-class-labels.csv'\n",
    "data = load_csv(diabetes_csv)\n",
    "print('Loaded data file {0} with {1} rows and {2} columns').format(diabetes_csv,len(data),len(data[0]))\n",
    "\n",
    "print(data[1])\n",
    "for i in range(len(data[1])-1) :\n",
    "    str_column_to_float(data,i)\n",
    "print(data[1])\n",
    "\n",
    "lookup = str_column_to_integer(data, len(data[1])-1)\n",
    "print lookup\n",
    "print(data[1])\n",
    "\n",
    "minmax = dataset_minmax(data)\n",
    "normalize_dataset(data,minmax)\n",
    "\n",
    "print(data[1])"
   ]
  },
  {
   "cell_type": "markdown",
   "metadata": {
    "collapsed": true
   },
   "source": [
    "### Standardize Data\n",
    "Standardization is a rescaling technique that refers to centering the distribution of the data on the value 0 and the standard deviation to the value 1.\n",
    "Together mean and sd can be used to summerize a normal distribuation, also called the Guassian ditribution or bell curve."
   ]
  },
  {
   "cell_type": "code",
   "execution_count": 15,
   "metadata": {
    "collapsed": true
   },
   "outputs": [],
   "source": [
    "def column_means(dataset) :\n",
    "    means = [0 for i in range(len(dataset[0]))]\n",
    "    for i in range(len(dataset[0])) :\n",
    "        col_values = [row[i] for row in dataset]\n",
    "        means[i] = sum(col_values)/float(len(dataset))\n",
    "    return means"
   ]
  },
  {
   "cell_type": "code",
   "execution_count": 16,
   "metadata": {
    "collapsed": true
   },
   "outputs": [],
   "source": [
    "def column_stdevs(dataset, means) :\n",
    "    stdevs = [0 for i in range(len(dataset[0]))]\n",
    "    for i in range(len(dataset[0])) :\n",
    "        varience = [pow(row[i] - means[i],2) for row in dataset]\n",
    "        stdevs[i] = sum(varience)\n",
    "    stdevs = [sqrt(x/float(len(dataset)-1)) for x in stdevs]\n",
    "    return stdevs"
   ]
  },
  {
   "cell_type": "code",
   "execution_count": 17,
   "metadata": {
    "collapsed": false
   },
   "outputs": [
    {
     "name": "stdout",
     "output_type": "stream",
     "text": [
      "[[30, 50], [60, 10], [20, 50], [30, 40]]\n",
      "[35.0, 37.5]\n",
      "[17.320508075688775, 18.929694486000912]\n"
     ]
    }
   ],
   "source": [
    "from math import sqrt\n",
    "\n",
    "def column_means(dataset) :\n",
    "    means = [0 for i in range(len(dataset[0]))]\n",
    "    for i in range(len(dataset[0])) :\n",
    "        col_values = [row[i] for row in dataset]\n",
    "        means[i] = sum(col_values)/float(len(dataset))\n",
    "    return means\n",
    "\n",
    "def column_stdevs(dataset, means) :\n",
    "    stdevs = [0 for i in range(len(dataset[0]))]\n",
    "    for i in range(len(dataset[0])) :\n",
    "        varience = [pow(row[i] - means[i],2) for row in dataset]\n",
    "        stdevs[i] = sum(varience)\n",
    "    stdevs = [sqrt(x/float(len(dataset)-1)) for x in stdevs]\n",
    "    return stdevs\n",
    "\n",
    "dataset = [[30,50],[60,10],[20,50],[30,40]]\n",
    "means = column_means(dataset)\n",
    "stdevs = column_stdevs(dataset, means)\n",
    "print dataset\n",
    "print means\n",
    "print stdevs"
   ]
  },
  {
   "cell_type": "markdown",
   "metadata": {},
   "source": [
    "Once the sumary statistics are computed, we can easily standerdize the values in each column. "
   ]
  },
  {
   "cell_type": "code",
   "execution_count": 18,
   "metadata": {
    "collapsed": true
   },
   "outputs": [],
   "source": [
    "def standardize_dataset(dataset, means, stdevs) :\n",
    "    for row in dataset :\n",
    "        for i in range(len(dataset[0])) :\n",
    "            row[i] = (row[i]-means[i]) / stdevs[i]        "
   ]
  },
  {
   "cell_type": "code",
   "execution_count": 19,
   "metadata": {
    "collapsed": false
   },
   "outputs": [
    {
     "name": "stdout",
     "output_type": "stream",
     "text": [
      "[[30, 50], [60, 10], [20, 50], [30, 40]]\n",
      "[35.0, 37.5]\n",
      "[17.320508075688775, 18.929694486000912]\n",
      "[[-0.28867513459481287, 0.6603381797442178], [1.4433756729740643, -1.4527439954372794], [-0.8660254037844386, 0.6603381797442178], [-0.28867513459481287, 0.13206763594884358]]\n"
     ]
    }
   ],
   "source": [
    "from math import sqrt\n",
    "\n",
    "def column_means(dataset) :\n",
    "    means = [0 for i in range(len(dataset[0]))]\n",
    "    for i in range(len(dataset[0])) :\n",
    "        col_values = [row[i] for row in dataset]\n",
    "        means[i] = sum(col_values)/float(len(dataset))\n",
    "    return means\n",
    "\n",
    "def column_stdevs(dataset, means) :\n",
    "    stdevs = [0 for i in range(len(dataset[0]))]\n",
    "    for i in range(len(dataset[0])) :\n",
    "        varience = [pow(row[i] - means[i],2) for row in dataset]\n",
    "        stdevs[i] = sum(varience)\n",
    "    stdevs = [sqrt(x/float(len(dataset)-1)) for x in stdevs]\n",
    "    return stdevs\n",
    "\n",
    "def standardize_dataset(dataset, means, stdevs) :\n",
    "    for row in dataset :\n",
    "        for i in range(len(dataset[0])) :\n",
    "            row[i] = (row[i]-means[i]) / stdevs[i]        \n",
    "            \n",
    "dataset = [[30,50],[60,10],[20,50],[30,40]]\n",
    "means = column_means(dataset)\n",
    "stdevs = column_stdevs(dataset, means)\n",
    "print dataset\n",
    "print means\n",
    "print stdevs\n",
    "standardize_dataset(dataset, means, stdevs)\n",
    "print dataset"
   ]
  },
  {
   "cell_type": "code",
   "execution_count": 21,
   "metadata": {
    "collapsed": false
   },
   "outputs": [
    {
     "name": "stdout",
     "output_type": "stream",
     "text": [
      "Loaded data file C:\\Users\\halad\\Documents\\my-learning\\dataset\\diabetes-with-string-class-labels.csv with 768 rows and 9 columns\n",
      "['6', '148', '72', '35', '0', '33.6', '0.627', '50', 'tested_positive']\n",
      "[6.0, 148.0, 72.0, 35.0, 0.0, 33.6, 0.627, 50.0, 'tested_positive']\n",
      "{'tested_positive': 0, 'tested_negative': 1}\n",
      "[6.0, 148.0, 72.0, 35.0, 0.0, 33.6, 0.627, 50.0, 0]\n",
      "[3.8450520833333335, 120.89453125, 69.10546875, 20.536458333333332, 79.79947916666667, 31.992578124999977, 0.4718763020833327, 33.240885416666664, 0.6510416666666666]\n",
      "[3.3695780626988623, 31.97261819513622, 19.355807170644777, 15.952217567727677, 115.24400235133837, 7.8841603203754405, 0.33132859501277484, 11.76023154067868, 0.4769513772427971]\n",
      "[0.6395304921176576, 0.8477713205896718, 0.14954329852954296, 0.9066790623472505, -0.692439324724129, 0.2038799072674717, 0.468186870229798, 1.4250667195933604, -1.3650063669598065]\n"
     ]
    }
   ],
   "source": [
    "from csv import reader\n",
    "from math import sqrt\n",
    "\n",
    "def load_csv(filename) :\n",
    "    dataset = list()\n",
    "    file = open(filename,'r')\n",
    "    lines = reader(file)\n",
    "    for line in lines :\n",
    "        if not line :\n",
    "            continue\n",
    "        dataset.append(line)\n",
    "    return dataset\n",
    "\n",
    "def str_column_to_float(dataset, column) :\n",
    "    for row in dataset :\n",
    "        row[column] = float(row[column].strip())\n",
    "\n",
    "def str_column_to_integer(dataset, column) :\n",
    "    class_values = [row[column] for row in dataset]\n",
    "    unique = set(class_values)\n",
    "    lookup = {}\n",
    "    for i,value in enumerate(unique) :\n",
    "        lookup[value] = i\n",
    "    for row in dataset :\n",
    "        row[column] = lookup[row[column]]\n",
    "    return lookup\n",
    "\n",
    "def column_means(dataset) :\n",
    "    means = [0 for i in range(len(dataset[0]))]\n",
    "    for i in range(len(dataset[0])) :\n",
    "        col_values = [row[i] for row in dataset]\n",
    "        means[i] = sum(col_values)/float(len(dataset))\n",
    "    return means\n",
    "\n",
    "def column_stdevs(dataset, means) :\n",
    "    stdevs = [0 for i in range(len(dataset[0]))]\n",
    "    for i in range(len(dataset[0])) :\n",
    "        varience = [pow(row[i] - means[i],2) for row in dataset]\n",
    "        stdevs[i] = sum(varience)\n",
    "    stdevs = [sqrt(x/float(len(dataset)-1)) for x in stdevs]\n",
    "    return stdevs\n",
    "\n",
    "def standardize_dataset(dataset, means, stdevs) :\n",
    "    for row in dataset :\n",
    "        for i in range(len(dataset[0])) :\n",
    "            row[i] = (row[i]-means[i]) / stdevs[i]    \n",
    "            \n",
    "diabetes_csv = 'C:\\Users\\halad\\Documents\\my-learning\\dataset\\diabetes-with-string-class-labels.csv'\n",
    "data = load_csv(diabetes_csv)\n",
    "print('Loaded data file {0} with {1} rows and {2} columns').format(diabetes_csv,len(data),len(data[0]))\n",
    "\n",
    "print(data[0])\n",
    "for i in range(len(data[1])-1) :\n",
    "    str_column_to_float(data,i)\n",
    "print(data[0])\n",
    "\n",
    "lookup = str_column_to_integer(data, len(data[1])-1)\n",
    "print lookup\n",
    "print(data[0])\n",
    "\n",
    "means = column_means(data)\n",
    "stdevs = column_stdevs(data, means)\n",
    "\n",
    "print means\n",
    "print stdevs\n",
    "\n",
    "standardize_dataset(data, means, stdevs)\n",
    "\n",
    "print(data[0])"
   ]
  },
  {
   "cell_type": "code",
   "execution_count": null,
   "metadata": {
    "collapsed": true
   },
   "outputs": [],
   "source": []
  }
 ],
 "metadata": {
  "anaconda-cloud": {},
  "kernelspec": {
   "display_name": "Python [Root]",
   "language": "python",
   "name": "Python [Root]"
  },
  "language_info": {
   "codemirror_mode": {
    "name": "ipython",
    "version": 2
   },
   "file_extension": ".py",
   "mimetype": "text/x-python",
   "name": "python",
   "nbconvert_exporter": "python",
   "pygments_lexer": "ipython2",
   "version": "2.7.12"
  }
 },
 "nbformat": 4,
 "nbformat_minor": 0
}
