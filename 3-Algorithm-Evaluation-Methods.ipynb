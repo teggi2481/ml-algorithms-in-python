{
 "cells": [
  {
   "cell_type": "markdown",
   "metadata": {
    "collapsed": true
   },
   "source": [
    "### Train and Test Split\n",
    "The train and test split is the easiest resampling method. The train and test split involves separating a dataset into two parts:\n",
    "<br>\n",
    "1. Training Dataset.\n",
    "2. Test Dataset.\n",
    "\n",
    "<br>The training dataset is used by the machine learning algorithm to train the model. The test dataset is held back and is used to evaluate the performance of the model.\n",
    "The rows assigned to each dataset are randomly selected."
   ]
  },
  {
   "cell_type": "code",
   "execution_count": 1,
   "metadata": {
    "collapsed": true
   },
   "outputs": [],
   "source": [
    "def train_test_split(dataset, split=0.6) :\n",
    "    train = list()\n",
    "    dataset_copy = list(dataset)\n",
    "    train_size = split * len(dataset)\n",
    "    while len(train) < train_size :\n",
    "        index = randrange(len(dataset_copy))\n",
    "        train.append(dataset_copy.pop(index))\n",
    "    return train, dataset_copy"
   ]
  },
  {
   "cell_type": "code",
   "execution_count": 4,
   "metadata": {
    "collapsed": false
   },
   "outputs": [
    {
     "name": "stdout",
     "output_type": "stream",
     "text": [
      "8 [[2], [11], [9], [4], [6], [7], [8], [10]]\n",
      "4 [[1], [3], [5], [12]]\n"
     ]
    }
   ],
   "source": [
    "from random import randrange\n",
    "from random import seed\n",
    "\n",
    "def train_test_split(dataset, split=0.6) :\n",
    "    train = list()\n",
    "    dataset_copy = list(dataset)\n",
    "    train_size = split * len(dataset)\n",
    "    while len(train) < train_size :\n",
    "        index = randrange(len(dataset_copy))\n",
    "        train.append(dataset_copy.pop(index))\n",
    "    return train, dataset_copy\n",
    "\n",
    "dataset = [[1],[2],[3],[4],[5],[6],[7],[8],[9],[10],[11],[12]]\n",
    "seed(1)\n",
    "train,test = train_test_split(dataset)\n",
    "print len(train), train\n",
    "print len(test), test"
   ]
  },
  {
   "cell_type": "code",
   "execution_count": 5,
   "metadata": {
    "collapsed": false
   },
   "outputs": [
    {
     "name": "stdout",
     "output_type": "stream",
     "text": [
      "6 [[2], [1], [11], [6], [10], [3]]\n",
      "6 [[4], [5], [7], [8], [9], [12]]\n"
     ]
    }
   ],
   "source": [
    "train,test = train_test_split(dataset,0.5)\n",
    "print len(train), train\n",
    "print len(test), test"
   ]
  },
  {
   "cell_type": "markdown",
   "metadata": {},
   "source": [
    "### k-fold cross validation\n",
    "A limitation of using the train and test method is that you get a noisy estimate of algorithm performance.\n",
    "Lets sample the dataset as below :\n",
    "1. First split the dataset into k groups\n",
    "2. Train the algorithm on the k-1 groups of data.\n",
    "3. Evaluate the algorithm performance on k th group as the test set.\n",
    "4. This is repeated so that each of the k groups is given opportunity to be held out and used as a test set.\n",
    "\n",
    "These groups are called folds, and this approach is called k-fold cross validation"
   ]
  },
  {
   "cell_type": "code",
   "execution_count": 6,
   "metadata": {
    "collapsed": true
   },
   "outputs": [],
   "source": [
    "def cross_validation_split(dataset, folds=3) :\n",
    "    dateset_copy = list(dataset)\n",
    "    dataset_split = list()\n",
    "    fold_size = int(len(dataset)/folds)\n",
    "    for i in range(folds) :\n",
    "        fold = list()\n",
    "        for j in range(fold_size) :\n",
    "            index = randrange(len(dataset_copy))\n",
    "            fold.append(dataset_copy.pop(index))\n",
    "        dataset_split.append(fold)\n",
    "    return dataset_split"
   ]
  },
  {
   "cell_type": "code",
   "execution_count": 8,
   "metadata": {
    "collapsed": false
   },
   "outputs": [
    {
     "name": "stdout",
     "output_type": "stream",
     "text": [
      "[[[2], [11], [9]], [[4], [6], [7]], [[8], [10], [1]], [[3], [12], [5]]]\n"
     ]
    }
   ],
   "source": [
    "from random import randrange\n",
    "from random import seed\n",
    "\n",
    "def cross_validation_split(dataset, folds=3) :\n",
    "    dataset_copy = list(dataset)\n",
    "    dataset_split = list()\n",
    "    fold_size = int(len(dataset)/folds)\n",
    "    for i in range(folds) :\n",
    "        fold = list()\n",
    "        for j in range(fold_size) :\n",
    "            index = randrange(len(dataset_copy))\n",
    "            fold.append(dataset_copy.pop(index))\n",
    "        dataset_split.append(fold)\n",
    "    return dataset_split\n",
    "\n",
    "dataset = [[1],[2],[3],[4],[5],[6],[7],[8],[9],[10],[11],[12]]\n",
    "seed(1)\n",
    "folds = cross_validation_split(dataset, 4)\n",
    "print folds"
   ]
  },
  {
   "cell_type": "code",
   "execution_count": 9,
   "metadata": {
    "collapsed": false
   },
   "outputs": [
    {
     "name": "stdout",
     "output_type": "stream",
     "text": [
      "[[[10], [1], [6], [9]], [[3], [12], [11], [2]], [[4], [7], [8], [5]]]\n"
     ]
    }
   ],
   "source": [
    "folds = cross_validation_split(dataset, 3)\n",
    "print folds"
   ]
  },
  {
   "cell_type": "code",
   "execution_count": 10,
   "metadata": {
    "collapsed": false
   },
   "outputs": [
    {
     "name": "stdout",
     "output_type": "stream",
     "text": [
      "[[[3], [6]], [[1], [4]], [[8], [9]], [[5], [7]], [[2], [11]]]\n"
     ]
    }
   ],
   "source": [
    "folds = cross_validation_split(dataset, 5)\n",
    "print folds"
   ]
  },
  {
   "cell_type": "markdown",
   "metadata": {},
   "source": [
    "The standard for estimating the performance of machine learning algorithms on new data is k-fold cross validation.\n",
    "The downside of cross validation is that it can be time consuming to run, requiring k different models to trained and evaluated."
   ]
  },
  {
   "cell_type": "markdown",
   "metadata": {},
   "source": [
    "### Extensions :\n",
    "1. Repeated train and test\n",
    "2. LOOCV or Leave out one cross valiation\n",
    "3. Stratification"
   ]
  },
  {
   "cell_type": "code",
   "execution_count": null,
   "metadata": {
    "collapsed": true
   },
   "outputs": [],
   "source": []
  }
 ],
 "metadata": {
  "kernelspec": {
   "display_name": "Python [Root]",
   "language": "python",
   "name": "Python [Root]"
  },
  "language_info": {
   "codemirror_mode": {
    "name": "ipython",
    "version": 2
   },
   "file_extension": ".py",
   "mimetype": "text/x-python",
   "name": "python",
   "nbconvert_exporter": "python",
   "pygments_lexer": "ipython2",
   "version": "2.7.12"
  }
 },
 "nbformat": 4,
 "nbformat_minor": 0
}
